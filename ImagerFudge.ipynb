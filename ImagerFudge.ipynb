{
 "cells": [
  {
   "cell_type": "code",
   "execution_count": 17,
   "metadata": {},
   "outputs": [
    {
     "name": "stdout",
     "output_type": "stream",
     "text": [
      "ExifVersion: b'0220'\n",
      "Software: Google\n",
      "Orientation: 1\n",
      "YCbCrSubSampling: (2, 2)\n",
      "ExifImageWidth: 4032\n",
      "ExifImageHeight: 3024\n",
      "ExifOffset: 70\n",
      "{'0th': {274: 1, 305: b'Google', 530: (2, 2), 34665: 70}, 'Exif': {36864: b'0220', 40962: 4032, 40963: 3024}, 'GPS': {}, 'Interop': {}, '1st': {}, 'thumbnail': None}\n"
     ]
    }
   ],
   "source": [
    "from PIL import Image\n",
    "from PIL.ExifTags import TAGS\n",
    "import piexif \n",
    "\n",
    "image= Image.open(\"test.jpg\")\n",
    "for k,v in image._getexif().items():\n",
    "    print(\"{}: {}\".format( TAGS[k], v))\n",
    "    \n",
    "exif_dict = piexif.load( image.info['exif'])\n",
    "print(exif_dict)\n",
    "\n",
    "#image.save(\"changed_orientation.jpg\", exif=exif_copy)\n",
    "\n",
    "\n",
    "exif_dict['0th'][piexif.ImageIFD.Orientation] = 5\n",
    "exif_bytes = piexif.dump( exif_dict )\n",
    "image.save(\"altered.jpeg\", exif=exif_bytes)\n",
    "\n",
    "\n"
   ]
  },
  {
   "cell_type": "code",
   "execution_count": 11,
   "metadata": {},
   "outputs": [
    {
     "name": "stdout",
     "output_type": "stream",
     "text": [
      "1\n"
     ]
    }
   ],
   "source": [
    "print(exif_dict['0th'][piexif.ImageIFD.Orientation])"
   ]
  },
  {
   "cell_type": "code",
   "execution_count": 55,
   "metadata": {},
   "outputs": [
    {
     "name": "stdout",
     "output_type": "stream",
     "text": [
      "8\n",
      "1943-03-11 03:50:09.650467\n",
      "1993-07-10 19:29:08.556932\n",
      "2013-06-18 08:06:00.689761\n",
      "1998-07-14 08:34:03.521417\n",
      "1993-03-17 14:33:47.829423\n",
      "2003-02-20 03:40:47.305388\n",
      "1978-09-09 22:28:59.191885\n",
      "1934-12-17 07:39:21.025939\n",
      "1995-06-03 14:36:52.267691\n",
      "1990-05-25 11:29:05.472691\n"
     ]
    }
   ],
   "source": [
    "from random import seed\n",
    "from random import randint\n",
    "from datetime import datetime\n",
    "\n",
    "seed(datetime.now())\n",
    "\n",
    "newvalue = 1\n",
    "\n",
    "while( newvalue ==1 ):\n",
    "    newvalue = randint( 1, 8 )\n",
    "    \n",
    "print(newvalue)\n",
    "\n",
    "import random\n",
    "from datetime import datetime, timedelta\n",
    "\n",
    "min_year=1900\n",
    "max_year=datetime.now().year\n",
    "\n",
    "start = datetime(min_year, 1, 1, 00, 00, 00)\n",
    "years = max_year - min_year+1\n",
    "end = start + timedelta(days=365 * years)\n",
    "\n",
    "for i in range(10):\n",
    "    random_date = start + (end - start) * random.random()\n",
    "    print(random_date)\n",
    "\n",
    "#done\n",
    "\n",
    "# or a function\n",
    "def gen_datetime(min_year=1900, max_year=datetime.now().year):\n",
    "    # generate a datetime in format yyyy-mm-dd hh:mm:ss.000000\n",
    "    start = datetime(min_year, 1, 1, 00, 00, 00)\n",
    "    years = max_year - min_year + 1\n",
    "    end = start + timedelta(days=365 * years)\n",
    "    return start + (end - start) * random.random()"
   ]
  }
 ],
 "metadata": {
  "kernelspec": {
   "display_name": "Python 3",
   "language": "python",
   "name": "python3"
  },
  "language_info": {
   "codemirror_mode": {
    "name": "ipython",
    "version": 3
   },
   "file_extension": ".py",
   "mimetype": "text/x-python",
   "name": "python",
   "nbconvert_exporter": "python",
   "pygments_lexer": "ipython3",
   "version": "3.7.3"
  }
 },
 "nbformat": 4,
 "nbformat_minor": 2
}
